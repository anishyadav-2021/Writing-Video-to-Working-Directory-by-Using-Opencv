{
 "cells": [
  {
   "cell_type": "markdown",
   "id": "piano-attribute",
   "metadata": {},
   "source": [
    "# Write Video to Working Directory by Using Opencv"
   ]
  },
  {
   "cell_type": "code",
   "execution_count": 15,
   "id": "engaged-wrist",
   "metadata": {},
   "outputs": [],
   "source": [
    "import cv2"
   ]
  },
  {
   "cell_type": "code",
   "execution_count": 16,
   "id": "covered-preference",
   "metadata": {},
   "outputs": [],
   "source": [
    "cap=cv2.VideoCapture(0)    \n",
    "# VideoCapture() function will capture the video.\n",
    "# 0 will capture video from primary camera.\n",
    "# 1 will capture video from secondary camera.\n"
   ]
  },
  {
   "cell_type": "code",
   "execution_count": 17,
   "id": "foreign-worth",
   "metadata": {},
   "outputs": [],
   "source": [
    "fourcc = cv2.VideoWriter_fourcc(*'MP4v') \n",
    "# create codec  (video writer codec)"
   ]
  },
  {
   "cell_type": "code",
   "execution_count": 18,
   "id": "civilian-characterization",
   "metadata": {},
   "outputs": [],
   "source": [
    "out = cv2.VideoWriter('output.mp4', fourcc, 8.0, (640,480))\n",
    "# create object (file anme,codec,frames/sec, resolution of video )"
   ]
  },
  {
   "cell_type": "code",
   "execution_count": 19,
   "id": "compliant-airfare",
   "metadata": {},
   "outputs": [],
   "source": [
    "# While will create infinity loop which will stops when we give stooping conditions\n",
    "while(True):\n",
    "    ret, frame = cap.read()  # cap.read will read single frame from video(if frame successfully captured then it will return true in ret variable)\n",
    "    out.write(frame)\n",
    "    cv2.imshow('frame', frame) # to show the frame\n",
    "    c = cv2.waitKey(1)\n",
    "    if c & 0xFF == ord('q'):     # 0xFF(hexadecimal value)\n",
    "        break\n",
    "cap.release()\n",
    "out.release()\n",
    "cv2.destroyAllWindows()  "
   ]
  },
  {
   "cell_type": "code",
   "execution_count": 20,
   "id": "mexican-albany",
   "metadata": {},
   "outputs": [
    {
     "data": {
      "text/plain": [
       "'C:\\\\Users\\\\SAYALI\\\\Python Class\\\\Assignments'"
      ]
     },
     "execution_count": 20,
     "metadata": {},
     "output_type": "execute_result"
    }
   ],
   "source": [
    "# Get working directory,where video is saved\n",
    "import os\n",
    "os.getcwd()\n"
   ]
  },
  {
   "cell_type": "code",
   "execution_count": null,
   "id": "greek-timber",
   "metadata": {},
   "outputs": [],
   "source": []
  }
 ],
 "metadata": {
  "kernelspec": {
   "display_name": "Python 3",
   "language": "python",
   "name": "python3"
  },
  "language_info": {
   "codemirror_mode": {
    "name": "ipython",
    "version": 3
   },
   "file_extension": ".py",
   "mimetype": "text/x-python",
   "name": "python",
   "nbconvert_exporter": "python",
   "pygments_lexer": "ipython3",
   "version": "3.8.8"
  }
 },
 "nbformat": 4,
 "nbformat_minor": 5
}
